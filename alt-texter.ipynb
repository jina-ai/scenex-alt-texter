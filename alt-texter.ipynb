{
 "cells": [
  {
   "cell_type": "markdown",
   "id": "9b576ba2-f829-43f6-b647-07b7cee258f0",
   "metadata": {},
   "source": [
    "# SceneXplain alt texter\n",
    "\n",
    "Alt Texter automatically generates alt texts for your Ghost blog, using [SceneXplain's alt text task](https://jina.ai/news/make-accessibility-accessible-generate-alt-text-with-scenexplain). For more detailed information, check the [README](https://github.com/jina-ai/scenex-alt-texter).\n",
    " \n",
    "**Note:** If you plan to run this on your own system, we recommend using the [Docker image](https://github.com/jina-ai/scenex-alt-texter#docker).\n",
    "\n",
    "## You will need:\n",
    "\n",
    "- A [SceneXplain](https://scenex.jina.ai) account and [API key](https://scenex.jina.ai/api).\n",
    "- Your Ghost [**Admin** API](https://ghost.org/docs/admin-api/) key (*not* Content API key)"
   ]
  },
  {
   "cell_type": "markdown",
   "id": "9524fbeb-5306-4e78-8a18-e49f52efcb51",
   "metadata": {},
   "source": [
    "## Fill in variables"
   ]
  },
  {
   "cell_type": "code",
   "execution_count": null,
   "id": "53e1b1c6-af9b-435f-9bb1-c458e472622e",
   "metadata": {},
   "outputs": [],
   "source": [
    "GHOST_API_KEY = \"<ghost-admin-api-key>\"\n",
    "GHOST_BLOG_URL = \"<ghost-blog-url>\"\n",
    "SCENEX_API_KEY = \"<scenexplain-api-key>\"\n",
    "SCENEX_URL = \"https://api.scenex.jina.ai/v1/describe\""
   ]
  },
  {
   "cell_type": "markdown",
   "id": "fe0db8ec-9244-49a4-b55f-3a6763171363",
   "metadata": {},
   "source": [
    "## Clone repository"
   ]
  },
  {
   "cell_type": "code",
   "execution_count": null,
   "id": "f2311062-7b6c-455e-9f1b-0ee07cdfeab8",
   "metadata": {},
   "outputs": [],
   "source": [
    "!git clone https://github.com/jina-ai/scenex-alt-texter.git"
   ]
  },
  {
   "cell_type": "code",
   "execution_count": null,
   "id": "a1fc129a-884f-42fc-b7e3-3a4bff0bbde8",
   "metadata": {},
   "outputs": [],
   "source": [
    "import os\n",
    "os.chdir(\"scenex-alt-texter\")"
   ]
  },
  {
   "cell_type": "markdown",
   "id": "73497c67-39da-4965-a4a2-7006e80374de",
   "metadata": {},
   "source": [
    "## Install requirements"
   ]
  },
  {
   "cell_type": "code",
   "execution_count": null,
   "id": "9221d5fb-023b-4766-b127-4b53180fc79b",
   "metadata": {},
   "outputs": [],
   "source": [
    "!pip install -r requirements.txt"
   ]
  },
  {
   "cell_type": "markdown",
   "id": "ca89ad36-0332-478e-a20b-69f931782b69",
   "metadata": {},
   "source": [
    "## Run code"
   ]
  },
  {
   "cell_type": "code",
   "execution_count": null,
   "id": "b85ca6fe-dd1b-42c3-830e-eddadd4b5bb3",
   "metadata": {},
   "outputs": [],
   "source": [
    "from helper import GhostTagger\n",
    "\n",
    "alt_texter = GhostTagger(\n",
    "        url=GHOST_BLOG_URL,\n",
    "        ghost_api_key=GHOST_API_KEY,\n",
    "        scenex_api_key=SCENEX_API_KEY,\n",
    "        scenex_url=SCENEX_URL,\n",
    "    )"
   ]
  },
  {
   "cell_type": "code",
   "execution_count": null,
   "id": "21ecdea8-41d6-4a21-abd1-788067a55924",
   "metadata": {},
   "outputs": [],
   "source": [
    "alt_texter.update_all()"
   ]
  }
 ],
 "metadata": {
  "kernelspec": {
   "display_name": "Python 3 (ipykernel)",
   "language": "python",
   "name": "python3"
  },
  "language_info": {
   "codemirror_mode": {
    "name": "ipython",
    "version": 3
   },
   "file_extension": ".py",
   "mimetype": "text/x-python",
   "name": "python",
   "nbconvert_exporter": "python",
   "pygments_lexer": "ipython3",
   "version": "3.11.6"
  }
 },
 "nbformat": 4,
 "nbformat_minor": 5
}
